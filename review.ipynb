{
  "nbformat": 4,
  "nbformat_minor": 0,
  "metadata": {
    "colab": {
      "provenance": []
    },
    "kernelspec": {
      "name": "python3",
      "display_name": "Python 3"
    },
    "language_info": {
      "name": "python"
    }
  },
  "cells": [
    {
      "cell_type": "code",
      "execution_count": 2,
      "metadata": {
        "id": "X5ZvZFh6pg9P",
        "colab": {
          "base_uri": "https://localhost:8080/"
        },
        "outputId": "694dc03a-0360-463a-93b4-9f5a083d785a"
      },
      "outputs": [
        {
          "output_type": "stream",
          "name": "stdout",
          "text": [
            "Mounted at /content/drive\n"
          ]
        }
      ],
      "source": [
        "# from google.colab import drive\n",
        "# drive.mount('/content/drive')"
      ]
    },
    {
      "cell_type": "code",
      "source": [
        "import numpy as np\n",
        "import pandas as pd\n",
        "import matplotlib.pyplot as plt\n",
        "from sklearn.preprocessing import OneHotEncoder\n",
        "from sklearn.feature_extraction.text import TfidfTransformer\n",
        "from sklearn.feature_extraction.text import CountVectorizer\n",
        "from sklearn.naive_bayes import MultinomialNB\n",
        "from sklearn.feature_extraction.text import CountVectorizer\n",
        "from sklearn.model_selection import train_test_split\n",
        "from sklearn.metrics import accuracy_score, classification_report\n",
        "from sklearn.linear_model import LogisticRegression\n",
        "import nltk\n",
        "from nltk.sentiment import SentimentIntensityAnalyzer\n",
        "from sklearn.ensemble import RandomForestClassifier\n",
        "nltk.download('vader_lexicon')"
      ],
      "metadata": {
        "id": "Zh0BpYRmp-Tk",
        "colab": {
          "base_uri": "https://localhost:8080/"
        },
        "outputId": "7cc1f757-0b65-4960-a3ac-b6e496d6eef9"
      },
      "execution_count": 3,
      "outputs": [
        {
          "output_type": "stream",
          "name": "stderr",
          "text": [
            "[nltk_data] Downloading package vader_lexicon to /root/nltk_data...\n"
          ]
        },
        {
          "output_type": "execute_result",
          "data": {
            "text/plain": [
              "True"
            ]
          },
          "metadata": {},
          "execution_count": 3
        }
      ]
    },
    {
      "cell_type": "code",
      "source": [
        "df = pd.read_csv(\"/content/drive/MyDrive/Sem 7/review project/Datafiniti_Amazon_Consumer_Reviews_of_Amazon_Products_May19.csv\")\n",
        "df_copy = df.drop(['id','brand','manufacturer','manufacturerNumber','dateAdded','dateUpdated',\"asins\",'imageURLs','keys','reviews.didPurchase','reviews.date','reviews.dateSeen','reviews.doRecommend','reviews.id','reviews.numHelpful','reviews.sourceURLs','reviews.username','sourceURLs'],axis=1)\n",
        "df_copy['categories'][0].split(',')\n",
        "# df_copy.head()\n",
        "for i in range(len(df_copy)):\n",
        "    df_copy['categories'][i] = df_copy['categories'][i].split(',')\n",
        "df_copy.head()"
      ],
      "metadata": {
        "colab": {
          "base_uri": "https://localhost:8080/",
          "height": 423
        },
        "id": "oWJYU7EiqSYr",
        "outputId": "e5c96cc8-b03f-4878-833b-6b259d2ca7db"
      },
      "execution_count": 4,
      "outputs": [
        {
          "output_type": "stream",
          "name": "stderr",
          "text": [
            "<ipython-input-4-8e0ba80d6ebb>:6: SettingWithCopyWarning: \n",
            "A value is trying to be set on a copy of a slice from a DataFrame\n",
            "\n",
            "See the caveats in the documentation: https://pandas.pydata.org/pandas-docs/stable/user_guide/indexing.html#returning-a-view-versus-a-copy\n",
            "  df_copy['categories'][i] = df_copy['categories'][i].split(',')\n"
          ]
        },
        {
          "output_type": "execute_result",
          "data": {
            "text/plain": [
              "                                                name  \\\n",
              "0  AmazonBasics AAA Performance Alkaline Batterie...   \n",
              "1  AmazonBasics AAA Performance Alkaline Batterie...   \n",
              "2  AmazonBasics AAA Performance Alkaline Batterie...   \n",
              "3  AmazonBasics AAA Performance Alkaline Batterie...   \n",
              "4  AmazonBasics AAA Performance Alkaline Batterie...   \n",
              "\n",
              "                                          categories primaryCategories  \\\n",
              "0  [AA, AAA, Health, Electronics, Health & Househ...   Health & Beauty   \n",
              "1  [AA, AAA, Health, Electronics, Health & Househ...   Health & Beauty   \n",
              "2  [AA, AAA, Health, Electronics, Health & Househ...   Health & Beauty   \n",
              "3  [AA, AAA, Health, Electronics, Health & Househ...   Health & Beauty   \n",
              "4  [AA, AAA, Health, Electronics, Health & Househ...   Health & Beauty   \n",
              "\n",
              "   reviews.rating                                       reviews.text  \\\n",
              "0               3  I order 3 of them and one of the item is bad q...   \n",
              "1               4  Bulk is always the less expensive way to go fo...   \n",
              "2               5  Well they are not Duracell but for the price i...   \n",
              "3               5  Seem to work as well as name brand batteries a...   \n",
              "4               5  These batteries are very long lasting the pric...   \n",
              "\n",
              "                                       reviews.title  \n",
              "0  ... 3 of them and one of the item is bad quali...  \n",
              "1  ... always the less expensive way to go for pr...  \n",
              "2  ... are not Duracell but for the price i am ha...  \n",
              "3  ... as well as name brand batteries at a much ...  \n",
              "4  ... batteries are very long lasting the price ...  "
            ],
            "text/html": [
              "\n",
              "\n",
              "  <div id=\"df-ef3deb10-99bb-49a6-892c-dd020c11ba73\">\n",
              "    <div class=\"colab-df-container\">\n",
              "      <div>\n",
              "<style scoped>\n",
              "    .dataframe tbody tr th:only-of-type {\n",
              "        vertical-align: middle;\n",
              "    }\n",
              "\n",
              "    .dataframe tbody tr th {\n",
              "        vertical-align: top;\n",
              "    }\n",
              "\n",
              "    .dataframe thead th {\n",
              "        text-align: right;\n",
              "    }\n",
              "</style>\n",
              "<table border=\"1\" class=\"dataframe\">\n",
              "  <thead>\n",
              "    <tr style=\"text-align: right;\">\n",
              "      <th></th>\n",
              "      <th>name</th>\n",
              "      <th>categories</th>\n",
              "      <th>primaryCategories</th>\n",
              "      <th>reviews.rating</th>\n",
              "      <th>reviews.text</th>\n",
              "      <th>reviews.title</th>\n",
              "    </tr>\n",
              "  </thead>\n",
              "  <tbody>\n",
              "    <tr>\n",
              "      <th>0</th>\n",
              "      <td>AmazonBasics AAA Performance Alkaline Batterie...</td>\n",
              "      <td>[AA, AAA, Health, Electronics, Health &amp; Househ...</td>\n",
              "      <td>Health &amp; Beauty</td>\n",
              "      <td>3</td>\n",
              "      <td>I order 3 of them and one of the item is bad q...</td>\n",
              "      <td>... 3 of them and one of the item is bad quali...</td>\n",
              "    </tr>\n",
              "    <tr>\n",
              "      <th>1</th>\n",
              "      <td>AmazonBasics AAA Performance Alkaline Batterie...</td>\n",
              "      <td>[AA, AAA, Health, Electronics, Health &amp; Househ...</td>\n",
              "      <td>Health &amp; Beauty</td>\n",
              "      <td>4</td>\n",
              "      <td>Bulk is always the less expensive way to go fo...</td>\n",
              "      <td>... always the less expensive way to go for pr...</td>\n",
              "    </tr>\n",
              "    <tr>\n",
              "      <th>2</th>\n",
              "      <td>AmazonBasics AAA Performance Alkaline Batterie...</td>\n",
              "      <td>[AA, AAA, Health, Electronics, Health &amp; Househ...</td>\n",
              "      <td>Health &amp; Beauty</td>\n",
              "      <td>5</td>\n",
              "      <td>Well they are not Duracell but for the price i...</td>\n",
              "      <td>... are not Duracell but for the price i am ha...</td>\n",
              "    </tr>\n",
              "    <tr>\n",
              "      <th>3</th>\n",
              "      <td>AmazonBasics AAA Performance Alkaline Batterie...</td>\n",
              "      <td>[AA, AAA, Health, Electronics, Health &amp; Househ...</td>\n",
              "      <td>Health &amp; Beauty</td>\n",
              "      <td>5</td>\n",
              "      <td>Seem to work as well as name brand batteries a...</td>\n",
              "      <td>... as well as name brand batteries at a much ...</td>\n",
              "    </tr>\n",
              "    <tr>\n",
              "      <th>4</th>\n",
              "      <td>AmazonBasics AAA Performance Alkaline Batterie...</td>\n",
              "      <td>[AA, AAA, Health, Electronics, Health &amp; Househ...</td>\n",
              "      <td>Health &amp; Beauty</td>\n",
              "      <td>5</td>\n",
              "      <td>These batteries are very long lasting the pric...</td>\n",
              "      <td>... batteries are very long lasting the price ...</td>\n",
              "    </tr>\n",
              "  </tbody>\n",
              "</table>\n",
              "</div>\n",
              "      <button class=\"colab-df-convert\" onclick=\"convertToInteractive('df-ef3deb10-99bb-49a6-892c-dd020c11ba73')\"\n",
              "              title=\"Convert this dataframe to an interactive table.\"\n",
              "              style=\"display:none;\">\n",
              "\n",
              "  <svg xmlns=\"http://www.w3.org/2000/svg\" height=\"24px\"viewBox=\"0 0 24 24\"\n",
              "       width=\"24px\">\n",
              "    <path d=\"M0 0h24v24H0V0z\" fill=\"none\"/>\n",
              "    <path d=\"M18.56 5.44l.94 2.06.94-2.06 2.06-.94-2.06-.94-.94-2.06-.94 2.06-2.06.94zm-11 1L8.5 8.5l.94-2.06 2.06-.94-2.06-.94L8.5 2.5l-.94 2.06-2.06.94zm10 10l.94 2.06.94-2.06 2.06-.94-2.06-.94-.94-2.06-.94 2.06-2.06.94z\"/><path d=\"M17.41 7.96l-1.37-1.37c-.4-.4-.92-.59-1.43-.59-.52 0-1.04.2-1.43.59L10.3 9.45l-7.72 7.72c-.78.78-.78 2.05 0 2.83L4 21.41c.39.39.9.59 1.41.59.51 0 1.02-.2 1.41-.59l7.78-7.78 2.81-2.81c.8-.78.8-2.07 0-2.86zM5.41 20L4 18.59l7.72-7.72 1.47 1.35L5.41 20z\"/>\n",
              "  </svg>\n",
              "      </button>\n",
              "\n",
              "\n",
              "\n",
              "    <div id=\"df-b640470e-ed69-4bca-9f8b-358bb3ed7279\">\n",
              "      <button class=\"colab-df-quickchart\" onclick=\"quickchart('df-b640470e-ed69-4bca-9f8b-358bb3ed7279')\"\n",
              "              title=\"Suggest charts.\"\n",
              "              style=\"display:none;\">\n",
              "\n",
              "<svg xmlns=\"http://www.w3.org/2000/svg\" height=\"24px\"viewBox=\"0 0 24 24\"\n",
              "     width=\"24px\">\n",
              "    <g>\n",
              "        <path d=\"M19 3H5c-1.1 0-2 .9-2 2v14c0 1.1.9 2 2 2h14c1.1 0 2-.9 2-2V5c0-1.1-.9-2-2-2zM9 17H7v-7h2v7zm4 0h-2V7h2v10zm4 0h-2v-4h2v4z\"/>\n",
              "    </g>\n",
              "</svg>\n",
              "      </button>\n",
              "    </div>\n",
              "\n",
              "<style>\n",
              "  .colab-df-quickchart {\n",
              "    background-color: #E8F0FE;\n",
              "    border: none;\n",
              "    border-radius: 50%;\n",
              "    cursor: pointer;\n",
              "    display: none;\n",
              "    fill: #1967D2;\n",
              "    height: 32px;\n",
              "    padding: 0 0 0 0;\n",
              "    width: 32px;\n",
              "  }\n",
              "\n",
              "  .colab-df-quickchart:hover {\n",
              "    background-color: #E2EBFA;\n",
              "    box-shadow: 0px 1px 2px rgba(60, 64, 67, 0.3), 0px 1px 3px 1px rgba(60, 64, 67, 0.15);\n",
              "    fill: #174EA6;\n",
              "  }\n",
              "\n",
              "  [theme=dark] .colab-df-quickchart {\n",
              "    background-color: #3B4455;\n",
              "    fill: #D2E3FC;\n",
              "  }\n",
              "\n",
              "  [theme=dark] .colab-df-quickchart:hover {\n",
              "    background-color: #434B5C;\n",
              "    box-shadow: 0px 1px 3px 1px rgba(0, 0, 0, 0.15);\n",
              "    filter: drop-shadow(0px 1px 2px rgba(0, 0, 0, 0.3));\n",
              "    fill: #FFFFFF;\n",
              "  }\n",
              "</style>\n",
              "\n",
              "    <script>\n",
              "      async function quickchart(key) {\n",
              "        const containerElement = document.querySelector('#' + key);\n",
              "        const charts = await google.colab.kernel.invokeFunction(\n",
              "            'suggestCharts', [key], {});\n",
              "      }\n",
              "    </script>\n",
              "\n",
              "      <script>\n",
              "\n",
              "function displayQuickchartButton(domScope) {\n",
              "  let quickchartButtonEl =\n",
              "    domScope.querySelector('#df-b640470e-ed69-4bca-9f8b-358bb3ed7279 button.colab-df-quickchart');\n",
              "  quickchartButtonEl.style.display =\n",
              "    google.colab.kernel.accessAllowed ? 'block' : 'none';\n",
              "}\n",
              "\n",
              "        displayQuickchartButton(document);\n",
              "      </script>\n",
              "      <style>\n",
              "    .colab-df-container {\n",
              "      display:flex;\n",
              "      flex-wrap:wrap;\n",
              "      gap: 12px;\n",
              "    }\n",
              "\n",
              "    .colab-df-convert {\n",
              "      background-color: #E8F0FE;\n",
              "      border: none;\n",
              "      border-radius: 50%;\n",
              "      cursor: pointer;\n",
              "      display: none;\n",
              "      fill: #1967D2;\n",
              "      height: 32px;\n",
              "      padding: 0 0 0 0;\n",
              "      width: 32px;\n",
              "    }\n",
              "\n",
              "    .colab-df-convert:hover {\n",
              "      background-color: #E2EBFA;\n",
              "      box-shadow: 0px 1px 2px rgba(60, 64, 67, 0.3), 0px 1px 3px 1px rgba(60, 64, 67, 0.15);\n",
              "      fill: #174EA6;\n",
              "    }\n",
              "\n",
              "    [theme=dark] .colab-df-convert {\n",
              "      background-color: #3B4455;\n",
              "      fill: #D2E3FC;\n",
              "    }\n",
              "\n",
              "    [theme=dark] .colab-df-convert:hover {\n",
              "      background-color: #434B5C;\n",
              "      box-shadow: 0px 1px 3px 1px rgba(0, 0, 0, 0.15);\n",
              "      filter: drop-shadow(0px 1px 2px rgba(0, 0, 0, 0.3));\n",
              "      fill: #FFFFFF;\n",
              "    }\n",
              "  </style>\n",
              "\n",
              "      <script>\n",
              "        const buttonEl =\n",
              "          document.querySelector('#df-ef3deb10-99bb-49a6-892c-dd020c11ba73 button.colab-df-convert');\n",
              "        buttonEl.style.display =\n",
              "          google.colab.kernel.accessAllowed ? 'block' : 'none';\n",
              "\n",
              "        async function convertToInteractive(key) {\n",
              "          const element = document.querySelector('#df-ef3deb10-99bb-49a6-892c-dd020c11ba73');\n",
              "          const dataTable =\n",
              "            await google.colab.kernel.invokeFunction('convertToInteractive',\n",
              "                                                     [key], {});\n",
              "          if (!dataTable) return;\n",
              "\n",
              "          const docLinkHtml = 'Like what you see? Visit the ' +\n",
              "            '<a target=\"_blank\" href=https://colab.research.google.com/notebooks/data_table.ipynb>data table notebook</a>'\n",
              "            + ' to learn more about interactive tables.';\n",
              "          element.innerHTML = '';\n",
              "          dataTable['output_type'] = 'display_data';\n",
              "          await google.colab.output.renderOutput(dataTable, element);\n",
              "          const docLink = document.createElement('div');\n",
              "          docLink.innerHTML = docLinkHtml;\n",
              "          element.appendChild(docLink);\n",
              "        }\n",
              "      </script>\n",
              "    </div>\n",
              "  </div>\n"
            ]
          },
          "metadata": {},
          "execution_count": 4
        }
      ]
    },
    {
      "cell_type": "code",
      "source": [
        "value_counts = df_copy['primaryCategories'].value_counts()\n",
        "\n",
        "# Plot a pie chart\n",
        "plt.pie(value_counts, labels=value_counts.index, autopct='%1.1f%%', startangle=180)\n",
        "plt.title('Distribution of Categories')\n",
        "plt.axis('equal')  # Equal aspect ratio ensures that pie is drawn as a circle.\n",
        "\n",
        "# Display the pie chart\n",
        "plt.show()"
      ],
      "metadata": {
        "colab": {
          "base_uri": "https://localhost:8080/",
          "height": 435
        },
        "id": "NFircLgtqZax",
        "outputId": "3deb29d2-dcae-46d0-8348-088a88b57a8c"
      },
      "execution_count": 5,
      "outputs": [
        {
          "output_type": "display_data",
          "data": {
            "text/plain": [
              "<Figure size 640x480 with 1 Axes>"
            ],
            "image/png": "[encoded data removed]"
          },
          "metadata": {}
        }
      ]
    },
    {
      "cell_type": "code",
      "source": [
        "df_copy['name'].value_counts()"
      ],
      "metadata": {
        "colab": {
          "base_uri": "https://localhost:8080/"
        },
        "id": "euXIWXp-r0mM",
        "outputId": "acc553ce-7adc-43a1-f53f-e87399ffa3af"
      },
      "execution_count": 6,
      "outputs": [
        {
          "output_type": "execute_result",
          "data": {
            "text/plain": [
              "AmazonBasics AAA Performance Alkaline Batteries (36 Count)                               8343\n",
              "AmazonBasics AA Performance Alkaline Batteries (48 Count) - Packaging May Vary           3728\n",
              "Fire HD 8 Tablet with Alexa, 8 HD Display, 16 GB, Tangerine - with Special Offers        2443\n",
              "All-New Fire HD 8 Tablet, 8 HD Display, Wi-Fi, 16 GB - Includes Special Offers, Black    2370\n",
              "Fire Kids Edition Tablet, 7 Display, Wi-Fi, 16 GB, Pink Kid-Proof Case                   1676\n",
              "                                                                                         ... \n",
              "Echo Dot (Previous generation)                                                              1\n",
              "AmazonBasics Single-Door Folding Metal Dog Crate - Large (42x28x30 Inches)                  1\n",
              "AmazonBasics Silicone Hot Handle Cover/Holder - Red                                         1\n",
              "Two Door Top Load Pet Kennel Travel Crate Dog Cat Pet Cage Carrier Box Tray 23\"             1\n",
              "Amazon Echo Show - Black                                                                    1\n",
              "Name: name, Length: 65, dtype: int64"
            ]
          },
          "metadata": {},
          "execution_count": 6
        }
      ]
    },
    {
      "cell_type": "code",
      "source": [
        "# corpus = df_copy['reviews.text']\n",
        "\n",
        "# # CountVectorizer converts text data into a term frequency matrix\n",
        "# count_vectorizer = CountVectorizer()\n",
        "# tf_matrix = count_vectorizer.fit_transform(corpus)\n",
        "\n",
        "# # TfidfTransformer transforms the term frequency matrix into a TF-IDF matrix\n",
        "# tfidf_transformer = TfidfTransformer()\n",
        "# tfidf_matrix = tfidf_transformer.fit_transform(tf_matrix)\n",
        "\n",
        "# print(tfidf_matrix.toarray())"
      ],
      "metadata": {
        "id": "Tlq4h9wP0XSq"
      },
      "execution_count": 7,
      "outputs": []
    },
    {
      "cell_type": "code",
      "source": [
        "from textblob import TextBlob\n",
        "labels = []\n",
        "for i in df_copy['reviews.text']:\n",
        "  blob = TextBlob(i)\n",
        "  sentiment = blob.sentiment\n",
        "  if sentiment.polarity > 0:\n",
        "    labels.append(\"positive\")\n",
        "  elif sentiment.polarity < 0:\n",
        "    labels.append(\"negative\")\n",
        "  else:\n",
        "    labels.append(\"neutral\")"
      ],
      "metadata": {
        "id": "IECpJZp33_px"
      },
      "execution_count": 8,
      "outputs": []
    },
    {
      "cell_type": "code",
      "source": [
        "# Example text data and labels\n",
        "corpus = df_copy['reviews.text']\n",
        "\n",
        "# Create a CountVectorizer to convert text to numerical features\n",
        "vectorizer = CountVectorizer()\n",
        "X = vectorizer.fit_transform(corpus)\n",
        "\n",
        "# Split data into training and testing sets\n",
        "X_train, X_test, y_train, y_test = train_test_split(X, labels, test_size=0.2, random_state=42)\n",
        "\n",
        "# Create and train the Multinomial Naive Bayes model\n",
        "nb_classifier = MultinomialNB()\n",
        "nb_classifier.fit(X_train, y_train)\n",
        "\n",
        "# Predict on the testing data\n",
        "y_pred = nb_classifier.predict(X_test)\n",
        "\n",
        "# Evaluate the model's performance\n",
        "accuracy = accuracy_score(y_test, y_pred)\n",
        "report = classification_report(y_test, y_pred)\n",
        "\n",
        "print(f\"Accuracy: {accuracy:.2f}\")\n",
        "print(\"Classification Report:\\n\", report)\n"
      ],
      "metadata": {
        "colab": {
          "base_uri": "https://localhost:8080/"
        },
        "id": "22Kxfhb32GdL",
        "outputId": "b1efb5a7-57fe-43c9-bd18-72831d3ea052"
      },
      "execution_count": 9,
      "outputs": [
        {
          "output_type": "stream",
          "name": "stdout",
          "text": [
            "Accuracy: 0.85\n",
            "Classification Report:\n",
            "               precision    recall  f1-score   support\n",
            "\n",
            "    negative       0.48      0.51      0.49       415\n",
            "     neutral       0.85      0.17      0.28       498\n",
            "    positive       0.89      0.96      0.92      4754\n",
            "\n",
            "    accuracy                           0.85      5667\n",
            "   macro avg       0.74      0.54      0.56      5667\n",
            "weighted avg       0.85      0.85      0.83      5667\n",
            "\n"
          ]
        }
      ]
    },
    {
      "cell_type": "code",
      "source": [
        "from sklearn.svm import LinearSVC\n",
        "from sklearn.feature_extraction.text import CountVectorizer\n",
        "from sklearn.model_selection import train_test_split\n",
        "from sklearn.metrics import accuracy_score, classification_report\n",
        "\n",
        "# Create and train the LinearSVC model\n",
        "svm_classifier = LinearSVC()\n",
        "svm_classifier.fit(X_train, y_train)\n",
        "\n",
        "# Predict on the testing data\n",
        "y_pred = svm_classifier.predict(X_test)\n",
        "\n",
        "# Evaluate the model's performance\n",
        "accuracy = accuracy_score(y_test, y_pred)\n",
        "report = classification_report(y_test, y_pred)\n",
        "\n",
        "print(f\"Accuracy: {accuracy:.2f}\")\n",
        "print(\"Classification Report:\\n\", report)\n"
      ],
      "metadata": {
        "colab": {
          "base_uri": "https://localhost:8080/"
        },
        "id": "7vql91WN7riG",
        "outputId": "914bb1b7-99d6-48a8-c6d6-4d63bf61981b"
      },
      "execution_count": 10,
      "outputs": [
        {
          "output_type": "stream",
          "name": "stdout",
          "text": [
            "Accuracy: 0.97\n",
            "Classification Report:\n",
            "               precision    recall  f1-score   support\n",
            "\n",
            "    negative       0.84      0.83      0.83       415\n",
            "     neutral       0.92      0.95      0.93       498\n",
            "    positive       0.98      0.98      0.98      4754\n",
            "\n",
            "    accuracy                           0.97      5667\n",
            "   macro avg       0.91      0.92      0.92      5667\n",
            "weighted avg       0.97      0.97      0.97      5667\n",
            "\n"
          ]
        },
        {
          "output_type": "stream",
          "name": "stderr",
          "text": [
            "/usr/local/lib/python3.10/dist-packages/sklearn/svm/_base.py:1244: ConvergenceWarning: Liblinear failed to converge, increase the number of iterations.\n",
            "  warnings.warn(\n"
          ]
        }
      ]
    },
    {
      "cell_type": "code",
      "source": [
        "rf_classifier = RandomForestClassifier(n_estimators=100, random_state=42)\n",
        "rf_classifier.fit(X_train, y_train)\n",
        "\n",
        "# Predict on the testing data\n",
        "y_pred = rf_classifier.predict(X_test)\n",
        "\n",
        "# Evaluate the model's performance\n",
        "accuracy = accuracy_score(y_test, y_pred)\n",
        "report = classification_report(y_test, y_pred)\n",
        "\n",
        "print(f\"Accuracy: {accuracy:.2f}\")\n",
        "print(\"Classification Report:\\n\", report)"
      ],
      "metadata": {
        "colab": {
          "base_uri": "https://localhost:8080/"
        },
        "id": "IQhYTzTM-Ij7",
        "outputId": "892dd5f7-5726-49f4-ee83-eab93979326f"
      },
      "execution_count": 11,
      "outputs": [
        {
          "output_type": "stream",
          "name": "stdout",
          "text": [
            "Accuracy: 0.94\n",
            "Classification Report:\n",
            "               precision    recall  f1-score   support\n",
            "\n",
            "    negative       0.95      0.54      0.69       415\n",
            "     neutral       0.92      0.77      0.84       498\n",
            "    positive       0.94      0.99      0.97      4754\n",
            "\n",
            "    accuracy                           0.94      5667\n",
            "   macro avg       0.94      0.77      0.83      5667\n",
            "weighted avg       0.94      0.94      0.93      5667\n",
            "\n"
          ]
        }
      ]
    },
    {
      "cell_type": "code",
      "source": [
        "lr_classifier = LogisticRegression(max_iter=1000, random_state=42)\n",
        "lr_classifier.fit(X_train, y_train)\n",
        "\n",
        "# Predict on the testing data\n",
        "y_pred = lr_classifier.predict(X_test)\n",
        "\n",
        "# Evaluate the model's performance\n",
        "accuracy = accuracy_score(y_test, y_pred)\n",
        "report = classification_report(y_test, y_pred)\n",
        "\n",
        "print(f\"Accuracy: {accuracy:.2f}\")\n",
        "print(\"Classification Report:\\n\", report)"
      ],
      "metadata": {
        "colab": {
          "base_uri": "https://localhost:8080/"
        },
        "id": "LhO99sQv-yBG",
        "outputId": "51ffdfee-1f57-4c39-aa3d-7d35b417cc95"
      },
      "execution_count": 18,
      "outputs": [
        {
          "output_type": "stream",
          "name": "stdout",
          "text": [
            "Accuracy: 0.97\n",
            "Classification Report:\n",
            "               precision    recall  f1-score   support\n",
            "\n",
            "    negative       0.84      0.81      0.83       415\n",
            "     neutral       0.91      0.94      0.93       498\n",
            "    positive       0.98      0.98      0.98      4754\n",
            "\n",
            "    accuracy                           0.97      5667\n",
            "   macro avg       0.91      0.91      0.91      5667\n",
            "weighted avg       0.97      0.97      0.97      5667\n",
            "\n"
          ]
        }
      ]
    },
    {
      "cell_type": "code",
      "source": [
        "predicted_sentiments = []\n",
        "sia = SentimentIntensityAnalyzer()\n",
        "for text in corpus:\n",
        "    sentiment_scores = sia.polarity_scores(text)\n",
        "\n",
        "    if sentiment_scores['compound'] >= 0.05:\n",
        "        predicted_sentiments.append('positive')\n",
        "    elif sentiment_scores['compound'] <= -0.05:\n",
        "        predicted_sentiments.append('negative')\n",
        "    else:\n",
        "        predicted_sentiments.append('neutral')"
      ],
      "metadata": {
        "id": "3Kln3EfG-kNV"
      },
      "execution_count": 13,
      "outputs": []
    },
    {
      "cell_type": "code",
      "source": [
        "corpus = df_copy['reviews.text']\n",
        "\n",
        "# Create a CountVectorizer to convert text to numerical features\n",
        "vectorizer = CountVectorizer()\n",
        "X = vectorizer.fit_transform(corpus)\n",
        "\n",
        "# Split data into training and testing sets\n",
        "X_train, X_test, y_train, y_test = train_test_split(X, labels, test_size=0.2, random_state=42)\n",
        "\n",
        "# Create and train the Multinomial Naive Bayes model\n",
        "nb_classifier = MultinomialNB()\n",
        "nb_classifier.fit(X_train, y_train)\n",
        "\n",
        "# Predict on the testing data\n",
        "y_pred = nb_classifier.predict(X_test)\n",
        "\n",
        "# Evaluate the model's performance\n",
        "accuracy = accuracy_score(y_test, y_pred)\n",
        "report = classification_report(y_test, y_pred)\n",
        "\n",
        "print(f\"Accuracy: {accuracy:.2f}\")\n",
        "print(\"Classification Report:\\n\", report)"
      ],
      "metadata": {
        "colab": {
          "base_uri": "https://localhost:8080/"
        },
        "id": "ZBTrfoF1YVIY",
        "outputId": "509028cc-5554-46c8-b114-6a719369e1b1"
      },
      "execution_count": 14,
      "outputs": [
        {
          "output_type": "stream",
          "name": "stdout",
          "text": [
            "Accuracy: 0.85\n",
            "Classification Report:\n",
            "               precision    recall  f1-score   support\n",
            "\n",
            "    negative       0.48      0.51      0.49       415\n",
            "     neutral       0.85      0.17      0.28       498\n",
            "    positive       0.89      0.96      0.92      4754\n",
            "\n",
            "    accuracy                           0.85      5667\n",
            "   macro avg       0.74      0.54      0.56      5667\n",
            "weighted avg       0.85      0.85      0.83      5667\n",
            "\n"
          ]
        }
      ]
    },
    {
      "cell_type": "code",
      "source": [
        "from sklearn.svm import LinearSVC\n",
        "from sklearn.feature_extraction.text import CountVectorizer\n",
        "from sklearn.model_selection import train_test_split\n",
        "from sklearn.metrics import accuracy_score, classification_report\n",
        "\n",
        "# Create and train the LinearSVC model\n",
        "svm_classifier = LinearSVC()\n",
        "svm_classifier.fit(X_train, y_train)\n",
        "\n",
        "# Predict on the testing data\n",
        "y_pred = svm_classifier.predict(X_test)\n",
        "\n",
        "# Evaluate the model's performance\n",
        "accuracy = accuracy_score(y_test, y_pred)\n",
        "report = classification_report(y_test, y_pred)\n",
        "\n",
        "print(f\"Accuracy: {accuracy:.2f}\")\n",
        "print(\"Classification Report:\\n\", report)"
      ],
      "metadata": {
        "colab": {
          "base_uri": "https://localhost:8080/"
        },
        "id": "QkGKe_b1YZiK",
        "outputId": "237ba90f-ed97-4d07-cffd-9fc3355e07da"
      },
      "execution_count": 15,
      "outputs": [
        {
          "output_type": "stream",
          "name": "stdout",
          "text": [
            "Accuracy: 0.97\n",
            "Classification Report:\n",
            "               precision    recall  f1-score   support\n",
            "\n",
            "    negative       0.84      0.83      0.83       415\n",
            "     neutral       0.92      0.95      0.93       498\n",
            "    positive       0.98      0.98      0.98      4754\n",
            "\n",
            "    accuracy                           0.97      5667\n",
            "   macro avg       0.91      0.92      0.92      5667\n",
            "weighted avg       0.97      0.97      0.97      5667\n",
            "\n"
          ]
        },
        {
          "output_type": "stream",
          "name": "stderr",
          "text": [
            "/usr/local/lib/python3.10/dist-packages/sklearn/svm/_base.py:1244: ConvergenceWarning: Liblinear failed to converge, increase the number of iterations.\n",
            "  warnings.warn(\n"
          ]
        }
      ]
    },
    {
      "cell_type": "code",
      "source": [
        "rf_classifier = RandomForestClassifier(n_estimators=100, random_state=42)\n",
        "rf_classifier.fit(X_train, y_train)\n",
        "\n",
        "# Predict on the testing data\n",
        "y_pred = rf_classifier.predict(X_test)\n",
        "\n",
        "# Evaluate the model's performance\n",
        "accuracy = accuracy_score(y_test, y_pred)\n",
        "report = classification_report(y_test, y_pred)\n",
        "\n",
        "print(f\"Accuracy: {accuracy:.2f}\")\n",
        "print(\"Classification Report:\\n\", report)"
      ],
      "metadata": {
        "colab": {
          "base_uri": "https://localhost:8080/"
        },
        "id": "l4m2iWA-Yecm",
        "outputId": "5ad30dfb-0daf-4421-dc48-a89b025367ae"
      },
      "execution_count": 16,
      "outputs": [
        {
          "output_type": "stream",
          "name": "stdout",
          "text": [
            "Accuracy: 0.94\n",
            "Classification Report:\n",
            "               precision    recall  f1-score   support\n",
            "\n",
            "    negative       0.95      0.54      0.69       415\n",
            "     neutral       0.92      0.77      0.84       498\n",
            "    positive       0.94      0.99      0.97      4754\n",
            "\n",
            "    accuracy                           0.94      5667\n",
            "   macro avg       0.94      0.77      0.83      5667\n",
            "weighted avg       0.94      0.94      0.93      5667\n",
            "\n"
          ]
        }
      ]
    },
    {
      "cell_type": "code",
      "source": [
        "lr_classifier = LogisticRegression(max_iter=1000, random_state=42)\n",
        "lr_classifier.fit(X_train, y_train)\n",
        "\n",
        "# Predict on the testing data\n",
        "y_pred = lr_classifier.predict(X_test)\n",
        "\n",
        "# Evaluate the model's performance\n",
        "accuracy = accuracy_score(y_test, y_pred)\n",
        "report = classification_report(y_test, y_pred)\n",
        "\n",
        "print(f\"Accuracy: {accuracy:.2f}\")\n",
        "print(\"Classification Report:\\n\", report)"
      ],
      "metadata": {
        "colab": {
          "base_uri": "https://localhost:8080/"
        },
        "id": "cKxJdhDFYnX-",
        "outputId": "684b74ef-e77e-4c19-8cd7-ec884cdc5c23"
      },
      "execution_count": 17,
      "outputs": [
        {
          "output_type": "stream",
          "name": "stdout",
          "text": [
            "Accuracy: 0.97\n",
            "Classification Report:\n",
            "               precision    recall  f1-score   support\n",
            "\n",
            "    negative       0.84      0.81      0.83       415\n",
            "     neutral       0.91      0.94      0.93       498\n",
            "    positive       0.98      0.98      0.98      4754\n",
            "\n",
            "    accuracy                           0.97      5667\n",
            "   macro avg       0.91      0.91      0.91      5667\n",
            "weighted avg       0.97      0.97      0.97      5667\n",
            "\n"
          ]
        }
      ]
    },
    {
      "cell_type": "code",
      "source": [
        "sample_text = \"This movie was amazing. I loved every minute of it!\"\n",
        "\n",
        "# Preprocess the sample text using the same vectorizer\n",
        "sample_text_features = vectorizer.transform([sample_text])\n",
        "\n",
        "# Predict sentiment using the trained Linear Regression model\n",
        "predicted_sentiment = lr_classifier.predict(sample_text_features)\n",
        "predicted_sentiment"
      ],
      "metadata": {
        "colab": {
          "base_uri": "https://localhost:8080/"
        },
        "id": "sjUbv4uabIRl",
        "outputId": "efe596ef-bc3a-497f-df2e-04b834722b69"
      },
      "execution_count": 25,
      "outputs": [
        {
          "output_type": "execute_result",
          "data": {
            "text/plain": [
              "array(['positive'], dtype='<U8')"
            ]
          },
          "metadata": {},
          "execution_count": 25
        }
      ]
    }
  ]
}